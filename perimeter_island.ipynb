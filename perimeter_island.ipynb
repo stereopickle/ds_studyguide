{
 "cells": [
  {
   "cell_type": "markdown",
   "metadata": {},
   "source": [
    "# Island Perimeter\n",
    "Given a matrix of 1 and 0, which has only one \"island\" of 1s, return the perimeter of the island."
   ]
  },
  {
   "cell_type": "code",
   "execution_count": 2,
   "metadata": {},
   "outputs": [],
   "source": [
    "test = [[0, 1, 0, 0], [1, 1, 1, 0], [0, 1, 0, 0], [1, 1, 0, 0]] \n",
    "# return 16"
   ]
  },
  {
   "cell_type": "code",
   "execution_count": 3,
   "metadata": {},
   "outputs": [],
   "source": [
    "# for 1 in each row\n",
    "# starts with 4\n",
    "# if row[i-1] is possible\n",
    "    # if row[i-1] is 1, subtract 1\n",
    "# if row[i+1] is possible\n",
    "    # if row[i+1] is 1, subtract 1\n",
    "# if there is a previous row\n",
    "    #if the same poisition in the previous row is 1, subtract 1\n",
    "# if there is a next row\n",
    "    # if the same position in the next row is 1, subtract 1"
   ]
  },
  {
   "cell_type": "code",
   "execution_count": 55,
   "metadata": {},
   "outputs": [],
   "source": [
    "def islandPerimeter(grid):\n",
    "    total = 4 * sum(list(map(lambda x: sum(x), grid)))\n",
    "    for r in range(len(grid)):\n",
    "        for c in range(len(grid[0])):\n",
    "            if grid[r][c] == 1:\n",
    "                if (c > 0) & (grid[r][c-1] == 1):\n",
    "                        total -= 1\n",
    "                try:\n",
    "                    if grid[r][c+1] == 1:\n",
    "                        total -= 1\n",
    "                except: pass\n",
    "                if (r > 0) & (grid[r-1][c] == 1):\n",
    "                        total -= 1\n",
    "                try : \n",
    "                    if (grid[r+1][c] == 1):\n",
    "                        total -= 1\n",
    "                except: pass\n",
    "    return total"
   ]
  },
  {
   "cell_type": "code",
   "execution_count": 56,
   "metadata": {},
   "outputs": [
    {
     "data": {
      "text/plain": [
       "6"
      ]
     },
     "execution_count": 56,
     "metadata": {},
     "output_type": "execute_result"
    }
   ],
   "source": [
    "test = [[1, 1]]\n",
    "islandPerimeter(test)"
   ]
  },
  {
   "cell_type": "code",
   "execution_count": null,
   "metadata": {},
   "outputs": [],
   "source": []
  }
 ],
 "metadata": {
  "kernelspec": {
   "display_name": "Python 3",
   "language": "python",
   "name": "python3"
  },
  "language_info": {
   "codemirror_mode": {
    "name": "ipython",
    "version": 3
   },
   "file_extension": ".py",
   "mimetype": "text/x-python",
   "name": "python",
   "nbconvert_exporter": "python",
   "pygments_lexer": "ipython3",
   "version": "3.7.4"
  }
 },
 "nbformat": 4,
 "nbformat_minor": 4
}
