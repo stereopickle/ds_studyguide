{
 "cells": [
  {
   "cell_type": "markdown",
   "metadata": {},
   "source": [
    "# sum to 0 \n",
    "given an array of n integers, find all unique set of three numbers that add up to zero."
   ]
  },
  {
   "cell_type": "code",
   "execution_count": 218,
   "metadata": {},
   "outputs": [],
   "source": [
    "def threeSum(nums):\n",
    "    if len(nums) < 3: return []\n",
    "    nums.sort()\n",
    "    list_ = set()\n",
    "    for i, v in enumerate(nums[:-2]):\n",
    "        for z in nums[i+1:]:\n",
    "            if -(v+z) \n",
    "        \n",
    "    numsx = dict.fromkeys(set(nums[:]), 0)\n",
    "    list_ = []\n",
    "    for n in nums: numsx[n] += 1\n",
    "        \n",
    "    for k in numsx.keys():\n",
    "        nums2 = numsx.copy()\n",
    "        nums2[k] -= 1\n",
    "        for j in nums2.keys():\n",
    "            if nums2[j] > 0:\n",
    "                nums2[j] -= 1\n",
    "                m = -(k+j)\n",
    "                if (m in nums2.keys()) and (nums2[m] > 0):\n",
    "                    add = sorted([k, j, m])\n",
    "                    if add not in list_: \n",
    "                        list_.append(add)\n",
    "    return list_\n",
    "    \n"
   ]
  },
  {
   "cell_type": "code",
   "execution_count": 219,
   "metadata": {},
   "outputs": [
    {
     "name": "stdout",
     "output_type": "stream",
     "text": [
      "[[-1, 0, 1], [-1, -1, 2]]\n",
      "[]\n",
      "[[0, 0, 0]]\n",
      "[[-2, 0, 2]]\n",
      "[]\n",
      "[[-2, 0, 2], [-2, 1, 1]]\n"
     ]
    }
   ],
   "source": [
    "print(threeSum([-1, 0, 1, 2, -1, -4])) # [[-1, 0, 1], [-1, -1, 2]]\n",
    "print(threeSum([-1, 0, 2])) # []\n",
    "print(threeSum([0, 0, 0])) # [0, 0, 0]\n",
    "print(threeSum([-2,0,0,2,2])) # [[-2, 0, 2]]\n",
    "print(threeSum([1,2,-2,-1])) # []\n",
    "print(threeSum([-2,0,1,1,2])) # [[-2,0,2],[-2,1,1]]"
   ]
  },
  {
   "cell_type": "code",
   "execution_count": 220,
   "metadata": {},
   "outputs": [
    {
     "name": "stdout",
     "output_type": "stream",
     "text": [
      "[[-4, 2, 2], [-5, 2, 3], [-6, 2, 4], [-7, 2, 5], [-8, 2, 6], [-9, 2, 7], [-10, 2, 8], [-11, 2, 9], [-12, 2, 10], [-13, 2, 11], [-14, 2, 12], [-15, 2, 13], [-1, -1, 2], [-6, 3, 3], [-7, 3, 4], [-8, 3, 5], [-9, 3, 6], [-10, 3, 7], [-11, 3, 8], [-12, 3, 9], [-13, 3, 10], [-14, 3, 11], [-15, 3, 12], [-2, -1, 3], [-8, 4, 4], [-9, 4, 5], [-10, 4, 6], [-11, 4, 7], [-12, 4, 8], [-13, 4, 9], [-14, 4, 10], [-15, 4, 11], [-3, -1, 4], [-2, -2, 4], [-10, 5, 5], [-11, 5, 6], [-12, 5, 7], [-13, 5, 8], [-14, 5, 9], [-15, 5, 10], [-4, -1, 5], [-3, -2, 5], [-12, 6, 6], [-13, 6, 7], [-14, 6, 8], [-15, 6, 9], [-5, -1, 6], [-4, -2, 6], [-3, -3, 6], [-14, 7, 7], [-15, 7, 8], [-6, -1, 7], [-5, -2, 7], [-4, -3, 7], [-7, -1, 8], [-6, -2, 8], [-5, -3, 8], [-4, -4, 8], [-8, -1, 9], [-7, -2, 9], [-6, -3, 9], [-5, -4, 9], [-8, -2, 10], [-9, -1, 10], [-7, -3, 10], [-6, -4, 10], [-5, -5, 10], [-8, -3, 11], [-10, -1, 11], [-9, -2, 11], [-7, -4, 11], [-6, -5, 11], [-8, -4, 12], [-11, -1, 12], [-9, -3, 12], [-10, -2, 12], [-7, -5, 12], [-6, -6, 12], [-8, -5, 13], [-12, -1, 13], [-11, -2, 13], [-9, -4, 13], [-10, -3, 13], [-7, -6, 13], [-8, -6, 14], [-13, -1, 14], [-12, -2, 14], [-11, -3, 14], [-9, -5, 14], [-10, -4, 14], [-7, -7, 14]]\n"
     ]
    }
   ],
   "source": [
    "print(threeSum([11,4,9,-7,-7,4,-6,13,12,-1,-5,-15,-2,-4,7,14,14,13,-2,-11,-9,-3,-15,6,-4,14,-7,-15,2,2,7,-10,13,-6,-1,14,5,8,12,3,14,-15,3,-10,-4,-12,-11,-4,-14,-6,-8,14,6,-15,5,10,14,13,10,-6,-8,-6,-1,-9,3,13,-10,-6,-1,9,4,-2,9,14,3,-9,-13,-1,-6,10,8,-7,9,-8,-7,-1,9,-15,-3,4,-6,5,13,8,3,-6,-1,8,-5,13,2,14,-12,-11,13,-1,-13,8,13,-4,3,-1,-4,-2,-2,5,12,-8,5,-13,3,14])) #[]"
   ]
  },
  {
   "cell_type": "code",
   "execution_count": 22,
   "metadata": {},
   "outputs": [
    {
     "data": {
      "text/plain": [
       "[-4, -1, -1, 0, 2]"
      ]
     },
     "execution_count": 22,
     "metadata": {},
     "output_type": "execute_result"
    }
   ],
   "source": [
    "sorted(nums)"
   ]
  },
  {
   "cell_type": "code",
   "execution_count": 145,
   "metadata": {},
   "outputs": [
    {
     "ename": "TypeError",
     "evalue": "unsupported operand type(s) for -: 'list' and 'list'",
     "output_type": "error",
     "traceback": [
      "\u001b[0;31m-------------------------------\u001b[0m",
      "\u001b[0;31mTypeError\u001b[0mTraceback (most recent call last)",
      "\u001b[0;32m<ipython-input-145-315c7f843f47>\u001b[0m in \u001b[0;36m<module>\u001b[0;34m\u001b[0m\n\u001b[0;32m----> 1\u001b[0;31m \u001b[0mnums\u001b[0m \u001b[0;34m-\u001b[0m \u001b[0;34m[\u001b[0m\u001b[0;36m1\u001b[0m\u001b[0;34m]\u001b[0m\u001b[0;34m\u001b[0m\u001b[0;34m\u001b[0m\u001b[0m\n\u001b[0m",
      "\u001b[0;31mTypeError\u001b[0m: unsupported operand type(s) for -: 'list' and 'list'"
     ]
    }
   ],
   "source": [
    "nums - [1]"
   ]
  },
  {
   "cell_type": "code",
   "execution_count": null,
   "metadata": {},
   "outputs": [],
   "source": []
  }
 ],
 "metadata": {
  "kernelspec": {
   "display_name": "Python 3",
   "language": "python",
   "name": "python3"
  },
  "language_info": {
   "codemirror_mode": {
    "name": "ipython",
    "version": 3
   },
   "file_extension": ".py",
   "mimetype": "text/x-python",
   "name": "python",
   "nbconvert_exporter": "python",
   "pygments_lexer": "ipython3",
   "version": "3.7.4"
  }
 },
 "nbformat": 4,
 "nbformat_minor": 4
}
