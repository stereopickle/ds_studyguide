{
 "cells": [
  {
   "cell_type": "markdown",
   "metadata": {},
   "source": [
    "Without increasing space complexity, shift the array by k number of times.  \n",
    "\n",
    "For example,  \n",
    "**input** [1, 2, 3, 4, 5, 6, 7], 3  \n",
    "**output** [5, 6, 7, 1, 2, 3, 4]"
   ]
  },
  {
   "cell_type": "code",
   "execution_count": 113,
   "metadata": {},
   "outputs": [],
   "source": [
    "# first approach, for k time, rotate the nums\n",
    "def rotate(nums, k):\n",
    "    if len(nums) <= 1 or k % len(nums) == 0: return nums\n",
    "    k = k%len(nums)\n",
    "    nums.extend(nums[:-k])\n",
    "    del nums[0:int((len(nums)-k)/2)]\n",
    "    return nums\n",
    "\n"
   ]
  },
  {
   "cell_type": "code",
   "execution_count": 114,
   "metadata": {},
   "outputs": [
    {
     "name": "stdout",
     "output_type": "stream",
     "text": [
      "[1, 2, 3, 4, 5, 6, 7]\n",
      "[7, 1, 2, 3, 4, 5, 6]\n",
      "[6, 7, 1, 2, 3, 4, 5]\n",
      "[5, 6, 7, 1, 2, 3, 4]\n",
      "[4, 5, 6, 7, 1, 2, 3]\n",
      "[3, 4, 5, 6, 7, 1, 2]\n",
      "[2, 3, 4, 5, 6, 7, 1]\n",
      "[1, 2, 3, 4, 5, 6, 7]\n",
      "[7, 1, 2, 3, 4, 5, 6]\n",
      "[6, 7, 1, 2, 3, 4, 5]\n",
      "[5, 6, 7, 1, 2, 3, 4]\n",
      "[6, 7, 1, 2, 3, 4, 5]\n",
      "[2, 3, 4, 5, 6, 7, 1]\n",
      "[]\n",
      "[1, 2, 1]\n",
      "[1, 1, 2]\n",
      "[3, 1, 2]\n"
     ]
    }
   ],
   "source": [
    "print(rotate([1, 2, 3, 4, 5, 6, 7], 0)) # ][5, 6, 7, 1, 2, 3, 4]\n",
    "print(rotate([1, 2, 3, 4, 5, 6, 7], 1)) # ][5, 6, 7, 1, 2, 3, 4]\n",
    "print(rotate([1, 2, 3, 4, 5, 6, 7], 2)) # ][5, 6, 7, 1, 2, 3, 4]\n",
    "print(rotate([1, 2, 3, 4, 5, 6, 7], 3)) # ][5, 6, 7, 1, 2, 3, 4]\n",
    "print(rotate([1, 2, 3, 4, 5, 6, 7], 4)) # ][5, 6, 7, 1, 2, 3, 4]\n",
    "print(rotate([1, 2, 3, 4, 5, 6, 7], 5)) # ][5, 6, 7, 1, 2, 3, 4]\n",
    "print(rotate([1, 2, 3, 4, 5, 6, 7], 6)) # ][5, 6, 7, 1, 2, 3, 4]\n",
    "print(rotate([1, 2, 3, 4, 5, 6, 7], 7)) # ][5, 6, 7, 1, 2, 3, 4]\n",
    "print(rotate([1, 2, 3, 4, 5, 6, 7], 8)) # ][5, 6, 7, 1, 2, 3, 4]\n",
    "print(rotate([1, 2, 3, 4, 5, 6, 7], 9)) # ][5, 6, 7, 1, 2, 3, 4]\n",
    "print(rotate([1, 2, 3, 4, 5, 6, 7], 10)) # ][5, 6, 7, 1, 2, 3, 4]\n",
    "print(rotate([1, 2, 3, 4, 5, 6, 7], 100)) # ][5, 6, 7, 1, 2, 3, 4]\n",
    "print(rotate([1, 2, 3, 4, 5, 6, 7], 90)) # ][5, 6, 7, 1, 2, 3, 4]\n",
    "\n",
    "print(rotate([], 4)) # []\n",
    "print(rotate([1, 2, 1], 0)) # [1, 2, 1]\n",
    "print(rotate([1, 2, 1], 1)) # [1, 1, 2]\n",
    "print(rotate([1, 2, 3], 4)) # [3, 1, 2]\n"
   ]
  },
  {
   "cell_type": "code",
   "execution_count": null,
   "metadata": {},
   "outputs": [],
   "source": []
  },
  {
   "cell_type": "code",
   "execution_count": null,
   "metadata": {},
   "outputs": [],
   "source": []
  }
 ],
 "metadata": {
  "kernelspec": {
   "display_name": "Python 3",
   "language": "python",
   "name": "python3"
  },
  "language_info": {
   "codemirror_mode": {
    "name": "ipython",
    "version": 3
   },
   "file_extension": ".py",
   "mimetype": "text/x-python",
   "name": "python",
   "nbconvert_exporter": "python",
   "pygments_lexer": "ipython3",
   "version": "3.7.4"
  }
 },
 "nbformat": 4,
 "nbformat_minor": 2
}
