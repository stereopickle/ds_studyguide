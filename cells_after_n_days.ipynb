{
 "cells": [
  {
   "cell_type": "markdown",
   "metadata": {},
   "source": [
    "input 8 cells occupancy (list of 0 and 1) + N days\n",
    "\n",
    "- when both adjecent cells are 1 or both 0, cell becomes 1\n",
    "- otherwise 0 "
   ]
  },
  {
   "cell_type": "code",
   "execution_count": 110,
   "metadata": {},
   "outputs": [],
   "source": [
    "def prisonAfterNDays(cells, N):\n",
    "    record = []\n",
    "    m = 0\n",
    "    # the cell configuration repeats after max 14 (or 7) \n",
    "    # create the initial 14 configuration\n",
    "    while m < 14 and N > m: \n",
    "        ans = [0]*8\n",
    "        for i in range(1, 7):\n",
    "            if cells[i-1] == 0:\n",
    "                if cells[i+1] == 0:\n",
    "                    ans[i] = 1\n",
    "            else: \n",
    "                if cells[i+1] == 1:\n",
    "                    ans[i] = 1\n",
    "        cells = ans\n",
    "        record.append(cells)\n",
    "        m += 1\n",
    "    return record[(N % 14) - 1]\n",
    "\n",
    "    "
   ]
  },
  {
   "cell_type": "code",
   "execution_count": 111,
   "metadata": {},
   "outputs": [],
   "source": [
    "# more efficient way? \n"
   ]
  },
  {
   "cell_type": "code",
   "execution_count": 112,
   "metadata": {},
   "outputs": [
    {
     "name": "stdout",
     "output_type": "stream",
     "text": [
      "[0, 0, 1, 1, 0, 0, 0, 0]\n",
      "[0, 0, 1, 1, 1, 1, 1, 0]\n"
     ]
    }
   ],
   "source": [
    "print(prisonAfterNDays([0, 1, 0, 1, 1, 0, 0, 1], 7)) \n",
    "# [0, 0, 1, 1, 0, 0, 0, 0]\n",
    "print(prisonAfterNDays([1, 0, 0, 1, 0, 0, 1, 0], 1000000000))\n",
    "# [0, 0, 1, 1, 1, 1, 0]\n",
    "#print(prisonAfterNDays([0, 0, 0, 1, 0, 0, 1, 0], 1000000000))\n",
    "#print(prisonAfterNDays([1, 1, 0, 1, 0, 0, 1, 0], 1000000000))\n",
    "#print(prisonAfterNDays([1, 1, 1, 1, 1, 1, 1, 1], 1000000000))\n",
    "#print(prisonAfterNDays([0, 0, 0, 1, 0, 0, 0, 0], 1000000000))\n"
   ]
  }
 ],
 "metadata": {
  "kernelspec": {
   "display_name": "Python 3",
   "language": "python",
   "name": "python3"
  },
  "language_info": {
   "codemirror_mode": {
    "name": "ipython",
    "version": 3
   },
   "file_extension": ".py",
   "mimetype": "text/x-python",
   "name": "python",
   "nbconvert_exporter": "python",
   "pygments_lexer": "ipython3",
   "version": "3.7.4"
  }
 },
 "nbformat": 4,
 "nbformat_minor": 2
}
