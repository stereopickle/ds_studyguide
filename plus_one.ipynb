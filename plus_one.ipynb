{
 "cells": [
  {
   "cell_type": "markdown",
   "metadata": {},
   "source": [
    "# Plus One\n",
    "Given a list of number representing each digit, return a list of number that represents the original integer + 1"
   ]
  },
  {
   "cell_type": "code",
   "execution_count": 60,
   "metadata": {},
   "outputs": [],
   "source": [
    "import time"
   ]
  },
  {
   "cell_type": "code",
   "execution_count": 61,
   "metadata": {},
   "outputs": [],
   "source": [
    "def PlusOne(digits):\n",
    "    return list(map(lambda x: x, str(int(''.join(list(map(lambda x: str(x), digits)))) + 1)))"
   ]
  },
  {
   "cell_type": "code",
   "execution_count": 63,
   "metadata": {},
   "outputs": [
    {
     "name": "stdout",
     "output_type": "stream",
     "text": [
      "['1', '3', '0']\n",
      "0.0009720325469970703\n"
     ]
    }
   ],
   "source": [
    "t0 = time.time()\n",
    "\n",
    "test = [1, 2, 9] \n",
    "print(PlusOne(test)) # [1, 3, 0]\n",
    "\n",
    "t1 = time.time()\n",
    "print(t1-t0)"
   ]
  },
  {
   "cell_type": "code",
   "execution_count": 57,
   "metadata": {},
   "outputs": [],
   "source": [
    "def PlusOne(digits):\n",
    "    k = len(digits)\n",
    "    int_ = sum([digits[i] * (10**(k-1-i)) for i in range(k)]) + 1\n",
    "    return [x for x in str(int_)]"
   ]
  },
  {
   "cell_type": "code",
   "execution_count": 64,
   "metadata": {},
   "outputs": [
    {
     "name": "stdout",
     "output_type": "stream",
     "text": [
      "['1', '3', '0']\n",
      "0.04584503173828125\n"
     ]
    }
   ],
   "source": [
    "t0 = time.time()\n",
    "\n",
    "test = [1, 2, 9] \n",
    "print(PlusOne(test)) # [1, 3, 0]\n",
    "\n",
    "t1 = time.time()\n",
    "print(t1-t0)"
   ]
  },
  {
   "cell_type": "code",
   "execution_count": 69,
   "metadata": {},
   "outputs": [],
   "source": [
    "def PlusOne(digits):\n",
    "    return [x for x in str(int(''.join(list(map(lambda x: str(x), digits)))) + 1)]"
   ]
  },
  {
   "cell_type": "code",
   "execution_count": 70,
   "metadata": {},
   "outputs": [
    {
     "name": "stdout",
     "output_type": "stream",
     "text": [
      "['1', '3', '0']\n",
      "0.00034499168395996094\n"
     ]
    }
   ],
   "source": [
    "t0 = time.time()\n",
    "\n",
    "test = [1, 2, 9] \n",
    "print(PlusOne(test)) # [1, 3, 0]\n",
    "\n",
    "t1 = time.time()\n",
    "print(t1-t0)"
   ]
  },
  {
   "cell_type": "code",
   "execution_count": null,
   "metadata": {},
   "outputs": [],
   "source": []
  }
 ],
 "metadata": {
  "kernelspec": {
   "display_name": "Python 3",
   "language": "python",
   "name": "python3"
  },
  "language_info": {
   "codemirror_mode": {
    "name": "ipython",
    "version": 3
   },
   "file_extension": ".py",
   "mimetype": "text/x-python",
   "name": "python",
   "nbconvert_exporter": "python",
   "pygments_lexer": "ipython3",
   "version": "3.7.4"
  }
 },
 "nbformat": 4,
 "nbformat_minor": 4
}
