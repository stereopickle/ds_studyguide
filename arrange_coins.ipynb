{
 "cells": [
  {
   "cell_type": "markdown",
   "metadata": {},
   "source": [
    "find a max number of rows with each row \n",
    "increasing a number of item a given number can form\n"
   ]
  },
  {
   "cell_type": "code",
   "execution_count": 89,
   "metadata": {},
   "outputs": [],
   "source": [
    "def arrangeCoins(n):\n",
    "    x = int((2*n)**(.5))\n",
    "    if n >= x*(x+1)/2:\n",
    "        return x\n",
    "    else: \n",
    "        return x-1\n"
   ]
  },
  {
   "cell_type": "code",
   "execution_count": 90,
   "metadata": {},
   "outputs": [],
   "source": [
    "def arrangeCoins2(n):\n",
    "    i = 0\n",
    "    while True:\n",
    "        if n >= i:\n",
    "            n -= i\n",
    "            i += 1\n",
    "        else:\n",
    "            break\n",
    "    return i-1"
   ]
  },
  {
   "cell_type": "code",
   "execution_count": 91,
   "metadata": {},
   "outputs": [
    {
     "name": "stdout",
     "output_type": "stream",
     "text": [
      "0: 0, 0\n",
      "1: 1, 1\n",
      "2: 1, 1\n",
      "3: 2, 2\n",
      "4: 2, 2\n",
      "5: 2, 2\n",
      "6: 3, 3\n",
      "7: 3, 3\n",
      "8: 3, 3\n",
      "9: 3, 3\n",
      "10: 4, 4\n",
      "11: 4, 4\n",
      "12: 4, 4\n",
      "13: 4, 4\n",
      "14: 4, 4\n",
      "15: 5, 5\n",
      "16: 5, 5\n",
      "17: 5, 5\n",
      "18: 5, 5\n",
      "19: 5, 5\n",
      "20: 5, 5\n",
      "21: 6, 6\n",
      "22: 6, 6\n",
      "23: 6, 6\n",
      "24: 6, 6\n",
      "25: 6, 6\n",
      "26: 6, 6\n",
      "27: 6, 6\n",
      "28: 7, 7\n",
      "29: 7, 7\n",
      "30: 7, 7\n",
      "31: 7, 7\n",
      "32: 7, 7\n",
      "33: 7, 7\n",
      "34: 7, 7\n",
      "35: 7, 7\n",
      "36: 8, 8\n",
      "37: 8, 8\n",
      "38: 8, 8\n",
      "39: 8, 8\n",
      "40: 8, 8\n",
      "41: 8, 8\n",
      "42: 8, 8\n",
      "43: 8, 8\n",
      "44: 8, 8\n",
      "45: 9, 9\n",
      "46: 9, 9\n",
      "47: 9, 9\n",
      "48: 9, 9\n",
      "49: 9, 9\n",
      "50: 9, 9\n",
      "51: 9, 9\n",
      "52: 9, 9\n",
      "53: 9, 9\n",
      "54: 9, 9\n",
      "55: 10, 10\n",
      "56: 10, 10\n",
      "57: 10, 10\n",
      "58: 10, 10\n",
      "59: 10, 10\n",
      "60: 10, 10\n",
      "61: 10, 10\n",
      "62: 10, 10\n",
      "63: 10, 10\n",
      "64: 10, 10\n",
      "65: 10, 10\n",
      "66: 11, 11\n",
      "67: 11, 11\n",
      "68: 11, 11\n",
      "69: 11, 11\n",
      "70: 11, 11\n",
      "71: 11, 11\n",
      "72: 11, 11\n",
      "73: 11, 11\n",
      "74: 11, 11\n",
      "75: 11, 11\n",
      "76: 11, 11\n",
      "77: 11, 11\n",
      "78: 12, 12\n",
      "79: 12, 12\n",
      "80: 12, 12\n",
      "81: 12, 12\n",
      "82: 12, 12\n",
      "83: 12, 12\n",
      "84: 12, 12\n",
      "85: 12, 12\n",
      "86: 12, 12\n",
      "87: 12, 12\n",
      "88: 12, 12\n",
      "89: 12, 12\n",
      "90: 12, 12\n",
      "91: 13, 13\n",
      "92: 13, 13\n",
      "93: 13, 13\n",
      "94: 13, 13\n",
      "95: 13, 13\n",
      "96: 13, 13\n",
      "97: 13, 13\n",
      "98: 13, 13\n",
      "99: 13, 13\n"
     ]
    }
   ],
   "source": [
    "for i in range(100):\n",
    "    print (f\"{i}: {arrangeCoins(i)}, {arrangeCoins2(i)}\")"
   ]
  },
  {
   "cell_type": "code",
   "execution_count": 60,
   "metadata": {},
   "outputs": [
    {
     "data": {
      "text/plain": [
       "7"
      ]
     },
     "execution_count": 60,
     "metadata": {},
     "output_type": "execute_result"
    }
   ],
   "source": []
  },
  {
   "cell_type": "code",
   "execution_count": 19,
   "metadata": {},
   "outputs": [
    {
     "data": {
      "text/plain": [
       "12.489995996796797"
      ]
     },
     "execution_count": 19,
     "metadata": {},
     "output_type": "execute_result"
    }
   ],
   "source": [
    "(78*2)**(1/2)"
   ]
  },
  {
   "cell_type": "code",
   "execution_count": 22,
   "metadata": {},
   "outputs": [
    {
     "data": {
      "text/plain": [
       "156"
      ]
     },
     "execution_count": 22,
     "metadata": {},
     "output_type": "execute_result"
    }
   ],
   "source": [
    "12*13"
   ]
  },
  {
   "cell_type": "code",
   "execution_count": null,
   "metadata": {},
   "outputs": [],
   "source": []
  }
 ],
 "metadata": {
  "kernelspec": {
   "display_name": "Python 3",
   "language": "python",
   "name": "python3"
  },
  "language_info": {
   "codemirror_mode": {
    "name": "ipython",
    "version": 3
   },
   "file_extension": ".py",
   "mimetype": "text/x-python",
   "name": "python",
   "nbconvert_exporter": "python",
   "pygments_lexer": "ipython3",
   "version": "3.7.4"
  }
 },
 "nbformat": 4,
 "nbformat_minor": 2
}
